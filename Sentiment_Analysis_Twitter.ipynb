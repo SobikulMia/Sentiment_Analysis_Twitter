{
 "cells": [
  {
   "cell_type": "code",
   "execution_count": 2,
   "id": "66a04512",
   "metadata": {},
   "outputs": [
    {
     "name": "stderr",
     "output_type": "stream",
     "text": [
      "[nltk_data] Downloading package stopwords to\n",
      "[nltk_data]     C:\\Users\\SOBIKUL\\AppData\\Roaming\\nltk_data...\n",
      "[nltk_data]   Package stopwords is already up-to-date!\n",
      "[nltk_data] Downloading package wordnet to\n",
      "[nltk_data]     C:\\Users\\SOBIKUL\\AppData\\Roaming\\nltk_data...\n",
      "[nltk_data]   Package wordnet is already up-to-date!\n"
     ]
    },
    {
     "data": {
      "text/plain": [
       "True"
      ]
     },
     "execution_count": 2,
     "metadata": {},
     "output_type": "execute_result"
    }
   ],
   "source": [
    "# Sentiment Analysis using Twitter Dataset\n",
    "import warnings\n",
    "warnings.filterwarnings(\"ignore\")\n",
    "import pandas as pd\n",
    "import numpy as np\n",
    "import re\n",
    "import string\n",
    "import matplotlib.pyplot as plt\n",
    "import seaborn as sns\n",
    "\n",
    "\n",
    "from sklearn.model_selection import train_test_split,RandomizedSearchCV\n",
    "from sklearn.feature_extraction.text import TfidfVectorizer\n",
    "from sklearn.linear_model import LogisticRegression\n",
    "from sklearn.svm import SVC\n",
    "from sklearn.ensemble import RandomForestClassifier\n",
    "from sklearn.metrics import classification_report, accuracy_score, confusion_matrix\n",
    "\n",
    "import nltk\n",
    "from nltk.corpus import stopwords\n",
    "from nltk.stem import WordNetLemmatizer\n",
    "from wordcloud import WordCloud,STOPWORDS\n",
    "\n",
    "nltk.download('stopwords')\n",
    "nltk.download('wordnet')\n"
   ]
  },
  {
   "cell_type": "code",
   "execution_count": 3,
   "id": "9f517a9a",
   "metadata": {},
   "outputs": [],
   "source": [
    "load = pd.read_csv('twitter_training.csv', header=None, encoding='utf-8').sample(70000)\n",
    "load.columns = ['id', 'entity', 'sentiment', 'text']\n",
    "\n",
    "load = load[load['sentiment'].isin(['Positive', 'Negative', 'Neutral'])]\n",
    "df = load[['sentiment', 'text']]\n"
   ]
  },
  {
   "cell_type": "code",
   "execution_count": 4,
   "id": "097c263e",
   "metadata": {},
   "outputs": [
    {
     "name": "stdout",
     "output_type": "stream",
     "text": [
      "sentiment      0\n",
      "text         530\n",
      "dtype: int64\n",
      "<class 'pandas.core.frame.DataFrame'>\n",
      "Index: 57808 entries, 192 to 32288\n",
      "Data columns (total 2 columns):\n",
      " #   Column     Non-Null Count  Dtype \n",
      "---  ------     --------------  ----- \n",
      " 0   sentiment  57808 non-null  object\n",
      " 1   text       57278 non-null  object\n",
      "dtypes: object(2)\n",
      "memory usage: 1.3+ MB\n",
      "None\n",
      "Before duplicate value: 3794\n"
     ]
    },
    {
     "data": {
      "text/html": [
       "<div>\n",
       "<style scoped>\n",
       "    .dataframe tbody tr th:only-of-type {\n",
       "        vertical-align: middle;\n",
       "    }\n",
       "\n",
       "    .dataframe tbody tr th {\n",
       "        vertical-align: top;\n",
       "    }\n",
       "\n",
       "    .dataframe thead th {\n",
       "        text-align: right;\n",
       "    }\n",
       "</style>\n",
       "<table border=\"1\" class=\"dataframe\">\n",
       "  <thead>\n",
       "    <tr style=\"text-align: right;\">\n",
       "      <th></th>\n",
       "      <th>sentiment</th>\n",
       "      <th>text</th>\n",
       "    </tr>\n",
       "  </thead>\n",
       "  <tbody>\n",
       "    <tr>\n",
       "      <th>192</th>\n",
       "      <td>Neutral</td>\n",
       "      <td>i enter that gunner seat and i fear for my life</td>\n",
       "    </tr>\n",
       "    <tr>\n",
       "      <th>18561</th>\n",
       "      <td>Neutral</td>\n",
       "      <td>Everyone’s wondering bc it “looks for Xbox”, b...</td>\n",
       "    </tr>\n",
       "    <tr>\n",
       "      <th>56666</th>\n",
       "      <td>Neutral</td>\n",
       "      <td>Next. There was an amazing rainbow... Miss all...</td>\n",
       "    </tr>\n",
       "    <tr>\n",
       "      <th>11226</th>\n",
       "      <td>Positive</td>\n",
       "      <td>@TheGreat_Keeno they’re here .  I can’t wait</td>\n",
       "    </tr>\n",
       "    <tr>\n",
       "      <th>37019</th>\n",
       "      <td>Positive</td>\n",
       "      <td>Its game day for Microsoft and.. 7 years of wa...</td>\n",
       "    </tr>\n",
       "    <tr>\n",
       "      <th>37558</th>\n",
       "      <td>Neutral</td>\n",
       "      <td>Wow needs a huge spectate button for just like...</td>\n",
       "    </tr>\n",
       "  </tbody>\n",
       "</table>\n",
       "</div>"
      ],
      "text/plain": [
       "      sentiment                                               text\n",
       "192     Neutral    i enter that gunner seat and i fear for my life\n",
       "18561   Neutral  Everyone’s wondering bc it “looks for Xbox”, b...\n",
       "56666   Neutral  Next. There was an amazing rainbow... Miss all...\n",
       "11226  Positive       @TheGreat_Keeno they’re here .  I can’t wait\n",
       "37019  Positive  Its game day for Microsoft and.. 7 years of wa...\n",
       "37558   Neutral  Wow needs a huge spectate button for just like..."
      ]
     },
     "execution_count": 4,
     "metadata": {},
     "output_type": "execute_result"
    }
   ],
   "source": [
    "print(df.isna().sum())\n",
    "print(df.info())\n",
    "print(f\"Before duplicate value: {df.duplicated().sum()}\")\n",
    "df.head(6)"
   ]
  },
  {
   "cell_type": "code",
   "execution_count": 5,
   "id": "5ebdb923",
   "metadata": {},
   "outputs": [
    {
     "name": "stdout",
     "output_type": "stream",
     "text": [
      "Before duplicate value: 57808 rows\n",
      "After remove duplicate value: 54014 rows\n",
      "total reomve duplicate value : 3794 values\n"
     ]
    }
   ],
   "source": [
    "# Check the duplicate value & reomve the duplicate value \n",
    "before = load.shape[0]\n",
    "load = df.drop_duplicates(subset=['text', 'sentiment'])\n",
    "after = load.shape[0]\n",
    "\n",
    "print(f\"Before duplicate value: {before} rows\")\n",
    "print(f\"After remove duplicate value: {after} rows\")\n",
    "print(f\"total reomve duplicate value : {before - after} values\")"
   ]
  },
  {
   "cell_type": "code",
   "execution_count": 6,
   "id": "521c53c4",
   "metadata": {},
   "outputs": [],
   "source": [
    "#fill the text NaN value in the dataset \n",
    "df['text'] =df['text'].fillna('unknown')\n"
   ]
  },
  {
   "cell_type": "code",
   "execution_count": 7,
   "id": "3b7ca1c3",
   "metadata": {},
   "outputs": [
    {
     "data": {
      "application/vnd.plotly.v1+json": {
       "config": {
        "plotlyServerURL": "https://plot.ly"
       },
       "data": [
        {
         "mode": "text",
         "text": [
          "."
         ],
         "textfont": {
          "color": "orange",
          "size": 50
         },
         "type": "scatter3d",
         "x": [
          0.3745401188473625
         ],
         "y": [
          0.6118528947223795
         ],
         "z": [
          0.12203823484477883
         ]
        },
        {
         "mode": "text",
         "text": [
          "@"
         ],
         "textfont": {
          "color": "orange",
          "size": 48.303081468974256
         },
         "type": "scatter3d",
         "x": [
          0.9507143064099162
         ],
         "y": [
          0.13949386065204183
         ],
         "z": [
          0.4951769101112702
         ]
        },
        {
         "mode": "text",
         "text": [
          "/"
         ],
         "textfont": {
          "color": "orange",
          "size": 48.01181933305192
         },
         "type": "scatter3d",
         "x": [
          0.7319939418114051
         ],
         "y": [
          0.29214464853521815
         ],
         "z": [
          0.034388521115218396
         ]
        },
        {
         "mode": "text",
         "text": [
          "game"
         ],
         "textfont": {
          "color": "orange",
          "size": 40.413676656817216
         },
         "type": "scatter3d",
         "x": [
          0.5986584841970366
         ],
         "y": [
          0.3663618432936917
         ],
         "z": [
          0.9093204020787821
         ]
        },
        {
         "mode": "text",
         "text": [
          "love"
         ],
         "textfont": {
          "color": "orange",
          "size": 39.755170958210215
         },
         "type": "scatter3d",
         "x": [
          0.15601864044243652
         ],
         "y": [
          0.45606998421703593
         ],
         "z": [
          0.2587799816000169
         ]
        },
        {
         "mode": "text",
         "text": [
          "good"
         ],
         "textfont": {
          "color": "orange",
          "size": 36.373997467285776
         },
         "type": "scatter3d",
         "x": [
          0.15599452033620265
         ],
         "y": [
          0.7851759613930136
         ],
         "z": [
          0.662522284353982
         ]
        },
        {
         "mode": "text",
         "text": [
          "really"
         ],
         "textfont": {
          "color": "orange",
          "size": 34.65175179400591
         },
         "type": "scatter3d",
         "x": [
          0.05808361216819946
         ],
         "y": [
          0.19967378215835974
         ],
         "z": [
          0.31171107608941095
         ]
        },
        {
         "mode": "text",
         "text": [
          "new"
         ],
         "textfont": {
          "color": "orange",
          "size": 33.815956099620095
         },
         "type": "scatter3d",
         "x": [
          0.8661761457749352
         ],
         "y": [
          0.5142344384136116
         ],
         "z": [
          0.5200680211778108
         ]
        },
        {
         "mode": "text",
         "text": [
          "best"
         ],
         "textfont": {
          "color": "orange",
          "size": 32.20768256648375
         },
         "type": "scatter3d",
         "x": [
          0.6011150117432088
         ],
         "y": [
          0.5924145688620425
         ],
         "z": [
          0.5467102793432796
         ]
        },
        {
         "mode": "text",
         "text": [
          "one"
         ],
         "textfont": {
          "color": "orange",
          "size": 31.181933305192064
         },
         "type": "scatter3d",
         "x": [
          0.7080725777960455
         ],
         "y": [
          0.046450412719997725
         ],
         "z": [
          0.18485445552552704
         ]
        },
        {
         "mode": "text",
         "text": [
          "will"
         ],
         "textfont": {
          "color": "orange",
          "size": 31.0806247361756
         },
         "type": "scatter3d",
         "x": [
          0.020584494295802447
         ],
         "y": [
          0.6075448519014384
         ],
         "z": [
          0.9695846277645586
         ]
        },
        {
         "mode": "text",
         "text": [
          "play"
         ],
         "textfont": {
          "color": "orange",
          "size": 31.055297593921487
         },
         "type": "scatter3d",
         "x": [
          0.9699098521619943
         ],
         "y": [
          0.17052412368729153
         ],
         "z": [
          0.7751328233611146
         ]
        },
        {
         "mode": "text",
         "text": [
          "2"
         ],
         "textfont": {
          "color": "orange",
          "size": 30.953989024905024
         },
         "type": "scatter3d",
         "x": [
          0.8324426408004217
         ],
         "y": [
          0.06505159298527952
         ],
         "z": [
          0.9394989415641891
         ]
        },
        {
         "mode": "text",
         "text": [
          "-"
         ],
         "textfont": {
          "color": "orange",
          "size": 30.890671169269734
         },
         "type": "scatter3d",
         "x": [
          0.21233911067827616
         ],
         "y": [
          0.9488855372533332
         ],
         "z": [
          0.8948273504276488
         ]
        },
        {
         "mode": "text",
         "text": [
          "great"
         ],
         "textfont": {
          "color": "orange",
          "size": 30.814689742507387
         },
         "type": "scatter3d",
         "x": [
          0.18182496720710062
         ],
         "y": [
          0.9656320330745594
         ],
         "z": [
          0.5978999788110851
         ]
        },
        {
         "mode": "text",
         "text": [
          "playing"
         ],
         "textfont": {
          "color": "orange",
          "size": 30.536091177712116
         },
         "type": "scatter3d",
         "x": [
          0.18340450985343382
         ],
         "y": [
          0.8083973481164611
         ],
         "z": [
          0.9218742350231168
         ]
        },
        {
         "mode": "text",
         "text": [
          "now"
         ],
         "textfont": {
          "color": "orange",
          "size": 29.548332629801603
         },
         "type": "scatter3d",
         "x": [
          0.3042422429595377
         ],
         "y": [
          0.3046137691733707
         ],
         "z": [
          0.0884925020519195
         ]
        },
        {
         "mode": "text",
         "text": [
          "thank"
         ],
         "textfont": {
          "color": "orange",
          "size": 28.801181933305195
         },
         "type": "scatter3d",
         "x": [
          0.5247564316322378
         ],
         "y": [
          0.09767211400638387
         ],
         "z": [
          0.1959828624191452
         ]
        },
        {
         "mode": "text",
         "text": [
          "red"
         ],
         "textfont": {
          "color": "orange",
          "size": 28.661882650907557
         },
         "type": "scatter3d",
         "x": [
          0.43194501864211576
         ],
         "y": [
          0.6842330265121569
         ],
         "z": [
          0.045227288910538066
         ]
        },
        {
         "mode": "text",
         "text": [
          "time"
         ],
         "textfont": {
          "color": "orange",
          "size": 28.611228366399324
         },
         "type": "scatter3d",
         "x": [
          0.2912291401980419
         ],
         "y": [
          0.4401524937396013
         ],
         "z": [
          0.32533033076326434
         ]
        }
       ],
       "layout": {
        "margin": {
         "b": 0,
         "l": 0,
         "r": 0,
         "t": 40
        },
        "scene": {
         "xaxis": {
          "showbackground": false
         },
         "yaxis": {
          "showbackground": false
         },
         "zaxis": {
          "showbackground": false
         }
        },
        "template": {
         "data": {
          "bar": [
           {
            "error_x": {
             "color": "#2a3f5f"
            },
            "error_y": {
             "color": "#2a3f5f"
            },
            "marker": {
             "line": {
              "color": "#E5ECF6",
              "width": 0.5
             },
             "pattern": {
              "fillmode": "overlay",
              "size": 10,
              "solidity": 0.2
             }
            },
            "type": "bar"
           }
          ],
          "barpolar": [
           {
            "marker": {
             "line": {
              "color": "#E5ECF6",
              "width": 0.5
             },
             "pattern": {
              "fillmode": "overlay",
              "size": 10,
              "solidity": 0.2
             }
            },
            "type": "barpolar"
           }
          ],
          "carpet": [
           {
            "aaxis": {
             "endlinecolor": "#2a3f5f",
             "gridcolor": "white",
             "linecolor": "white",
             "minorgridcolor": "white",
             "startlinecolor": "#2a3f5f"
            },
            "baxis": {
             "endlinecolor": "#2a3f5f",
             "gridcolor": "white",
             "linecolor": "white",
             "minorgridcolor": "white",
             "startlinecolor": "#2a3f5f"
            },
            "type": "carpet"
           }
          ],
          "choropleth": [
           {
            "colorbar": {
             "outlinewidth": 0,
             "ticks": ""
            },
            "type": "choropleth"
           }
          ],
          "contour": [
           {
            "colorbar": {
             "outlinewidth": 0,
             "ticks": ""
            },
            "colorscale": [
             [
              0,
              "#0d0887"
             ],
             [
              0.1111111111111111,
              "#46039f"
             ],
             [
              0.2222222222222222,
              "#7201a8"
             ],
             [
              0.3333333333333333,
              "#9c179e"
             ],
             [
              0.4444444444444444,
              "#bd3786"
             ],
             [
              0.5555555555555556,
              "#d8576b"
             ],
             [
              0.6666666666666666,
              "#ed7953"
             ],
             [
              0.7777777777777778,
              "#fb9f3a"
             ],
             [
              0.8888888888888888,
              "#fdca26"
             ],
             [
              1,
              "#f0f921"
             ]
            ],
            "type": "contour"
           }
          ],
          "contourcarpet": [
           {
            "colorbar": {
             "outlinewidth": 0,
             "ticks": ""
            },
            "type": "contourcarpet"
           }
          ],
          "heatmap": [
           {
            "colorbar": {
             "outlinewidth": 0,
             "ticks": ""
            },
            "colorscale": [
             [
              0,
              "#0d0887"
             ],
             [
              0.1111111111111111,
              "#46039f"
             ],
             [
              0.2222222222222222,
              "#7201a8"
             ],
             [
              0.3333333333333333,
              "#9c179e"
             ],
             [
              0.4444444444444444,
              "#bd3786"
             ],
             [
              0.5555555555555556,
              "#d8576b"
             ],
             [
              0.6666666666666666,
              "#ed7953"
             ],
             [
              0.7777777777777778,
              "#fb9f3a"
             ],
             [
              0.8888888888888888,
              "#fdca26"
             ],
             [
              1,
              "#f0f921"
             ]
            ],
            "type": "heatmap"
           }
          ],
          "heatmapgl": [
           {
            "colorbar": {
             "outlinewidth": 0,
             "ticks": ""
            },
            "colorscale": [
             [
              0,
              "#0d0887"
             ],
             [
              0.1111111111111111,
              "#46039f"
             ],
             [
              0.2222222222222222,
              "#7201a8"
             ],
             [
              0.3333333333333333,
              "#9c179e"
             ],
             [
              0.4444444444444444,
              "#bd3786"
             ],
             [
              0.5555555555555556,
              "#d8576b"
             ],
             [
              0.6666666666666666,
              "#ed7953"
             ],
             [
              0.7777777777777778,
              "#fb9f3a"
             ],
             [
              0.8888888888888888,
              "#fdca26"
             ],
             [
              1,
              "#f0f921"
             ]
            ],
            "type": "heatmapgl"
           }
          ],
          "histogram": [
           {
            "marker": {
             "pattern": {
              "fillmode": "overlay",
              "size": 10,
              "solidity": 0.2
             }
            },
            "type": "histogram"
           }
          ],
          "histogram2d": [
           {
            "colorbar": {
             "outlinewidth": 0,
             "ticks": ""
            },
            "colorscale": [
             [
              0,
              "#0d0887"
             ],
             [
              0.1111111111111111,
              "#46039f"
             ],
             [
              0.2222222222222222,
              "#7201a8"
             ],
             [
              0.3333333333333333,
              "#9c179e"
             ],
             [
              0.4444444444444444,
              "#bd3786"
             ],
             [
              0.5555555555555556,
              "#d8576b"
             ],
             [
              0.6666666666666666,
              "#ed7953"
             ],
             [
              0.7777777777777778,
              "#fb9f3a"
             ],
             [
              0.8888888888888888,
              "#fdca26"
             ],
             [
              1,
              "#f0f921"
             ]
            ],
            "type": "histogram2d"
           }
          ],
          "histogram2dcontour": [
           {
            "colorbar": {
             "outlinewidth": 0,
             "ticks": ""
            },
            "colorscale": [
             [
              0,
              "#0d0887"
             ],
             [
              0.1111111111111111,
              "#46039f"
             ],
             [
              0.2222222222222222,
              "#7201a8"
             ],
             [
              0.3333333333333333,
              "#9c179e"
             ],
             [
              0.4444444444444444,
              "#bd3786"
             ],
             [
              0.5555555555555556,
              "#d8576b"
             ],
             [
              0.6666666666666666,
              "#ed7953"
             ],
             [
              0.7777777777777778,
              "#fb9f3a"
             ],
             [
              0.8888888888888888,
              "#fdca26"
             ],
             [
              1,
              "#f0f921"
             ]
            ],
            "type": "histogram2dcontour"
           }
          ],
          "mesh3d": [
           {
            "colorbar": {
             "outlinewidth": 0,
             "ticks": ""
            },
            "type": "mesh3d"
           }
          ],
          "parcoords": [
           {
            "line": {
             "colorbar": {
              "outlinewidth": 0,
              "ticks": ""
             }
            },
            "type": "parcoords"
           }
          ],
          "pie": [
           {
            "automargin": true,
            "type": "pie"
           }
          ],
          "scatter": [
           {
            "fillpattern": {
             "fillmode": "overlay",
             "size": 10,
             "solidity": 0.2
            },
            "type": "scatter"
           }
          ],
          "scatter3d": [
           {
            "line": {
             "colorbar": {
              "outlinewidth": 0,
              "ticks": ""
             }
            },
            "marker": {
             "colorbar": {
              "outlinewidth": 0,
              "ticks": ""
             }
            },
            "type": "scatter3d"
           }
          ],
          "scattercarpet": [
           {
            "marker": {
             "colorbar": {
              "outlinewidth": 0,
              "ticks": ""
             }
            },
            "type": "scattercarpet"
           }
          ],
          "scattergeo": [
           {
            "marker": {
             "colorbar": {
              "outlinewidth": 0,
              "ticks": ""
             }
            },
            "type": "scattergeo"
           }
          ],
          "scattergl": [
           {
            "marker": {
             "colorbar": {
              "outlinewidth": 0,
              "ticks": ""
             }
            },
            "type": "scattergl"
           }
          ],
          "scattermapbox": [
           {
            "marker": {
             "colorbar": {
              "outlinewidth": 0,
              "ticks": ""
             }
            },
            "type": "scattermapbox"
           }
          ],
          "scatterpolar": [
           {
            "marker": {
             "colorbar": {
              "outlinewidth": 0,
              "ticks": ""
             }
            },
            "type": "scatterpolar"
           }
          ],
          "scatterpolargl": [
           {
            "marker": {
             "colorbar": {
              "outlinewidth": 0,
              "ticks": ""
             }
            },
            "type": "scatterpolargl"
           }
          ],
          "scatterternary": [
           {
            "marker": {
             "colorbar": {
              "outlinewidth": 0,
              "ticks": ""
             }
            },
            "type": "scatterternary"
           }
          ],
          "surface": [
           {
            "colorbar": {
             "outlinewidth": 0,
             "ticks": ""
            },
            "colorscale": [
             [
              0,
              "#0d0887"
             ],
             [
              0.1111111111111111,
              "#46039f"
             ],
             [
              0.2222222222222222,
              "#7201a8"
             ],
             [
              0.3333333333333333,
              "#9c179e"
             ],
             [
              0.4444444444444444,
              "#bd3786"
             ],
             [
              0.5555555555555556,
              "#d8576b"
             ],
             [
              0.6666666666666666,
              "#ed7953"
             ],
             [
              0.7777777777777778,
              "#fb9f3a"
             ],
             [
              0.8888888888888888,
              "#fdca26"
             ],
             [
              1,
              "#f0f921"
             ]
            ],
            "type": "surface"
           }
          ],
          "table": [
           {
            "cells": {
             "fill": {
              "color": "#EBF0F8"
             },
             "line": {
              "color": "white"
             }
            },
            "header": {
             "fill": {
              "color": "#C8D4E3"
             },
             "line": {
              "color": "white"
             }
            },
            "type": "table"
           }
          ]
         },
         "layout": {
          "annotationdefaults": {
           "arrowcolor": "#2a3f5f",
           "arrowhead": 0,
           "arrowwidth": 1
          },
          "autotypenumbers": "strict",
          "coloraxis": {
           "colorbar": {
            "outlinewidth": 0,
            "ticks": ""
           }
          },
          "colorscale": {
           "diverging": [
            [
             0,
             "#8e0152"
            ],
            [
             0.1,
             "#c51b7d"
            ],
            [
             0.2,
             "#de77ae"
            ],
            [
             0.3,
             "#f1b6da"
            ],
            [
             0.4,
             "#fde0ef"
            ],
            [
             0.5,
             "#f7f7f7"
            ],
            [
             0.6,
             "#e6f5d0"
            ],
            [
             0.7,
             "#b8e186"
            ],
            [
             0.8,
             "#7fbc41"
            ],
            [
             0.9,
             "#4d9221"
            ],
            [
             1,
             "#276419"
            ]
           ],
           "sequential": [
            [
             0,
             "#0d0887"
            ],
            [
             0.1111111111111111,
             "#46039f"
            ],
            [
             0.2222222222222222,
             "#7201a8"
            ],
            [
             0.3333333333333333,
             "#9c179e"
            ],
            [
             0.4444444444444444,
             "#bd3786"
            ],
            [
             0.5555555555555556,
             "#d8576b"
            ],
            [
             0.6666666666666666,
             "#ed7953"
            ],
            [
             0.7777777777777778,
             "#fb9f3a"
            ],
            [
             0.8888888888888888,
             "#fdca26"
            ],
            [
             1,
             "#f0f921"
            ]
           ],
           "sequentialminus": [
            [
             0,
             "#0d0887"
            ],
            [
             0.1111111111111111,
             "#46039f"
            ],
            [
             0.2222222222222222,
             "#7201a8"
            ],
            [
             0.3333333333333333,
             "#9c179e"
            ],
            [
             0.4444444444444444,
             "#bd3786"
            ],
            [
             0.5555555555555556,
             "#d8576b"
            ],
            [
             0.6666666666666666,
             "#ed7953"
            ],
            [
             0.7777777777777778,
             "#fb9f3a"
            ],
            [
             0.8888888888888888,
             "#fdca26"
            ],
            [
             1,
             "#f0f921"
            ]
           ]
          },
          "colorway": [
           "#636efa",
           "#EF553B",
           "#00cc96",
           "#ab63fa",
           "#FFA15A",
           "#19d3f3",
           "#FF6692",
           "#B6E880",
           "#FF97FF",
           "#FECB52"
          ],
          "font": {
           "color": "#2a3f5f"
          },
          "geo": {
           "bgcolor": "white",
           "lakecolor": "white",
           "landcolor": "#E5ECF6",
           "showlakes": true,
           "showland": true,
           "subunitcolor": "white"
          },
          "hoverlabel": {
           "align": "left"
          },
          "hovermode": "closest",
          "mapbox": {
           "style": "light"
          },
          "paper_bgcolor": "white",
          "plot_bgcolor": "#E5ECF6",
          "polar": {
           "angularaxis": {
            "gridcolor": "white",
            "linecolor": "white",
            "ticks": ""
           },
           "bgcolor": "#E5ECF6",
           "radialaxis": {
            "gridcolor": "white",
            "linecolor": "white",
            "ticks": ""
           }
          },
          "scene": {
           "xaxis": {
            "backgroundcolor": "#E5ECF6",
            "gridcolor": "white",
            "gridwidth": 2,
            "linecolor": "white",
            "showbackground": true,
            "ticks": "",
            "zerolinecolor": "white"
           },
           "yaxis": {
            "backgroundcolor": "#E5ECF6",
            "gridcolor": "white",
            "gridwidth": 2,
            "linecolor": "white",
            "showbackground": true,
            "ticks": "",
            "zerolinecolor": "white"
           },
           "zaxis": {
            "backgroundcolor": "#E5ECF6",
            "gridcolor": "white",
            "gridwidth": 2,
            "linecolor": "white",
            "showbackground": true,
            "ticks": "",
            "zerolinecolor": "white"
           }
          },
          "shapedefaults": {
           "line": {
            "color": "#2a3f5f"
           }
          },
          "ternary": {
           "aaxis": {
            "gridcolor": "white",
            "linecolor": "white",
            "ticks": ""
           },
           "baxis": {
            "gridcolor": "white",
            "linecolor": "white",
            "ticks": ""
           },
           "bgcolor": "#E5ECF6",
           "caxis": {
            "gridcolor": "white",
            "linecolor": "white",
            "ticks": ""
           }
          },
          "title": {
           "x": 0.05
          },
          "xaxis": {
           "automargin": true,
           "gridcolor": "white",
           "linecolor": "white",
           "ticks": "",
           "title": {
            "standoff": 15
           },
           "zerolinecolor": "white",
           "zerolinewidth": 2
          },
          "yaxis": {
           "automargin": true,
           "gridcolor": "white",
           "linecolor": "white",
           "ticks": "",
           "title": {
            "standoff": 15
           },
           "zerolinecolor": "white",
           "zerolinewidth": 2
          }
         }
        },
        "title": {
         "text": "3D WordCloud for Positive Reviews"
        }
       }
      }
     },
     "metadata": {},
     "output_type": "display_data"
    }
   ],
   "source": [
    "from wordcloud import STOPWORDS\n",
    "import plotly.graph_objects as go\n",
    "import numpy as np\n",
    "from collections import Counter\n",
    "positive_texts = list(df[df[\"sentiment\"] == \"Positive\"][\"text\"])\n",
    "def plot_3d_wordcloud(text_list, title=\"3D WordCloud\", top_n=20, color='orange', seed=42):\n",
    "    \"\"\"\n",
    "    text_list: list of text data (e.g., from df['text'])\n",
    "    title: plot title\n",
    "    top_n: number of top frequent words to show\n",
    "    color: word color\n",
    "    seed: random seed for reproducibility\n",
    "    \"\"\"\n",
    "    all_words = \" \".join(text_list).lower().split()\n",
    "\n",
    "    # stopwords \n",
    "    filtered_words = [word for word in all_words if word not in STOPWORDS]\n",
    "\n",
    "    word_counts = Counter(filtered_words).most_common(top_n)\n",
    "    if not word_counts:\n",
    "        print(\" No valid words to display.\")\n",
    "        return\n",
    "\n",
    "    words, freqs = zip(*word_counts)\n",
    "\n",
    "    np.random.seed(seed)\n",
    "    x, y, z = np.random.rand(3, len(words))\n",
    "\n",
    "    max_freq = max(freqs)\n",
    "    sizes = [20 + (f / max_freq) * 30 for f in freqs]\n",
    "\n",
    "    # 3D Plot \n",
    "    fig = go.Figure()\n",
    "\n",
    "    for i, word in enumerate(words):\n",
    "        fig.add_trace(go.Scatter3d(\n",
    "            x=[x[i]], y=[y[i]], z=[z[i]],\n",
    "            mode='text',\n",
    "            text=[word],\n",
    "            textfont=dict(size=sizes[i], color=color)\n",
    "        ))\n",
    "\n",
    "    fig.update_layout(\n",
    "        title=title,\n",
    "        scene=dict(\n",
    "            xaxis=dict(showbackground=False),\n",
    "            yaxis=dict(showbackground=False),\n",
    "            zaxis=dict(showbackground=False)\n",
    "        ),\n",
    "        margin=dict(l=0, r=0, t=40, b=0)\n",
    "    )\n",
    "\n",
    "    fig.show()\n",
    "plot_3d_wordcloud(positive_texts, title=\"3D WordCloud for Positive Reviews\")"
   ]
  },
  {
   "cell_type": "code",
   "execution_count": 8,
   "id": "62147ab6",
   "metadata": {},
   "outputs": [
    {
     "data": {
      "application/vnd.plotly.v1+json": {
       "config": {
        "plotlyServerURL": "https://plot.ly"
       },
       "data": [
        {
         "mode": "text",
         "text": [
          "@"
         ],
         "textfont": {
          "color": "orange",
          "size": 50
         },
         "type": "scatter3d",
         "x": [
          0.3745401188473625
         ],
         "y": [
          0.6118528947223795
         ],
         "z": [
          0.12203823484477883
         ]
        },
        {
         "mode": "text",
         "text": [
          "game"
         ],
         "textfont": {
          "color": "orange",
          "size": 38.912448700410394
         },
         "type": "scatter3d",
         "x": [
          0.9507143064099162
         ],
         "y": [
          0.13949386065204183
         ],
         "z": [
          0.4951769101112702
         ]
        },
        {
         "mode": "text",
         "text": [
          "/"
         ],
         "textfont": {
          "color": "orange",
          "size": 34.45964432284542
         },
         "type": "scatter3d",
         "x": [
          0.7319939418114051
         ],
         "y": [
          0.29214464853521815
         ],
         "z": [
          0.034388521115218396
         ]
        },
        {
         "mode": "text",
         "text": [
          "."
         ],
         "textfont": {
          "color": "orange",
          "size": 30.15731874145007
         },
         "type": "scatter3d",
         "x": [
          0.5986584841970366
         ],
         "y": [
          0.3663618432936917
         ],
         "z": [
          0.9093204020787821
         ]
        },
        {
         "mode": "text",
         "text": [
          "fix"
         ],
         "textfont": {
          "color": "orange",
          "size": 28.16689466484268
         },
         "type": "scatter3d",
         "x": [
          0.15601864044243652
         ],
         "y": [
          0.45606998421703593
         ],
         "z": [
          0.2587799816000169
         ]
        },
        {
         "mode": "text",
         "text": [
          "shit"
         ],
         "textfont": {
          "color": "orange",
          "size": 27.729138166894664
         },
         "type": "scatter3d",
         "x": [
          0.15599452033620265
         ],
         "y": [
          0.7851759613930136
         ],
         "z": [
          0.662522284353982
         ]
        },
        {
         "mode": "text",
         "text": [
          "fuck"
         ],
         "textfont": {
          "color": "orange",
          "size": 27.352941176470587
         },
         "type": "scatter3d",
         "x": [
          0.05808361216819946
         ],
         "y": [
          0.19967378215835974
         ],
         "z": [
          0.31171107608941095
         ]
        },
        {
         "mode": "text",
         "text": [
          "now"
         ],
         "textfont": {
          "color": "orange",
          "size": 27.147742818057456
         },
         "type": "scatter3d",
         "x": [
          0.8661761457749352
         ],
         "y": [
          0.5142344384136116
         ],
         "z": [
          0.5200680211778108
         ]
        },
        {
         "mode": "text",
         "text": [
          "play"
         ],
         "textfont": {
          "color": "orange",
          "size": 27.031463748290015
         },
         "type": "scatter3d",
         "x": [
          0.6011150117432088
         ],
         "y": [
          0.5924145688620425
         ],
         "z": [
          0.5467102793432796
         ]
        },
        {
         "mode": "text",
         "text": [
          "fucking"
         ],
         "textfont": {
          "color": "orange",
          "size": 27.024623803009575
         },
         "type": "scatter3d",
         "x": [
          0.7080725777960455
         ],
         "y": [
          0.046450412719997725
         ],
         "z": [
          0.18485445552552704
         ]
        },
        {
         "mode": "text",
         "text": [
          "still"
         ],
         "textfont": {
          "color": "orange",
          "size": 26.607387140902873
         },
         "type": "scatter3d",
         "x": [
          0.020584494295802447
         ],
         "y": [
          0.6075448519014384
         ],
         "z": [
          0.9695846277645586
         ]
        },
        {
         "mode": "text",
         "text": [
          "please"
         ],
         "textfont": {
          "color": "orange",
          "size": 26.450068399452803
         },
         "type": "scatter3d",
         "x": [
          0.9699098521619943
         ],
         "y": [
          0.17052412368729153
         ],
         "z": [
          0.7751328233611146
         ]
        },
        {
         "mode": "text",
         "text": [
          "even"
         ],
         "textfont": {
          "color": "orange",
          "size": 26.244870041039672
         },
         "type": "scatter3d",
         "x": [
          0.8324426408004217
         ],
         "y": [
          0.06505159298527952
         ],
         "z": [
          0.9394989415641891
         ]
        },
        {
         "mode": "text",
         "text": [
          "really"
         ],
         "textfont": {
          "color": "orange",
          "size": 26.12859097127223
         },
         "type": "scatter3d",
         "x": [
          0.21233911067827616
         ],
         "y": [
          0.9488855372533332
         ],
         "z": [
          0.8948273504276488
         ]
        },
        {
         "mode": "text",
         "text": [
          "will"
         ],
         "textfont": {
          "color": "orange",
          "size": 26.114911080711355
         },
         "type": "scatter3d",
         "x": [
          0.18182496720710062
         ],
         "y": [
          0.9656320330745594
         ],
         "z": [
          0.5978999788110851
         ]
        },
        {
         "mode": "text",
         "text": [
          "’"
         ],
         "textfont": {
          "color": "orange",
          "size": 26.09439124487004
         },
         "type": "scatter3d",
         "x": [
          0.18340450985343382
         ],
         "y": [
          0.8083973481164611
         ],
         "z": [
          0.9218742350231168
         ]
        },
        {
         "mode": "text",
         "text": [
          "one"
         ],
         "textfont": {
          "color": "orange",
          "size": 26.0328317373461
         },
         "type": "scatter3d",
         "x": [
          0.3042422429595377
         ],
         "y": [
          0.3046137691733707
         ],
         "z": [
          0.0884925020519195
         ]
        },
        {
         "mode": "text",
         "text": [
          "people"
         ],
         "textfont": {
          "color": "orange",
          "size": 25.63611491108071
         },
         "type": "scatter3d",
         "x": [
          0.5247564316322378
         ],
         "y": [
          0.09767211400638387
         ],
         "z": [
          0.1959828624191452
         ]
        },
        {
         "mode": "text",
         "text": [
          "&"
         ],
         "textfont": {
          "color": "orange",
          "size": 25.512995896032834
         },
         "type": "scatter3d",
         "x": [
          0.43194501864211576
         ],
         "y": [
          0.6842330265121569
         ],
         "z": [
          0.045227288910538066
         ]
        },
        {
         "mode": "text",
         "text": [
          "got"
         ],
         "textfont": {
          "color": "orange",
          "size": 25.3625170998632
         },
         "type": "scatter3d",
         "x": [
          0.2912291401980419
         ],
         "y": [
          0.4401524937396013
         ],
         "z": [
          0.32533033076326434
         ]
        }
       ],
       "layout": {
        "margin": {
         "b": 0,
         "l": 0,
         "r": 0,
         "t": 40
        },
        "scene": {
         "xaxis": {
          "showbackground": false
         },
         "yaxis": {
          "showbackground": false
         },
         "zaxis": {
          "showbackground": false
         }
        },
        "template": {
         "data": {
          "bar": [
           {
            "error_x": {
             "color": "#2a3f5f"
            },
            "error_y": {
             "color": "#2a3f5f"
            },
            "marker": {
             "line": {
              "color": "#E5ECF6",
              "width": 0.5
             },
             "pattern": {
              "fillmode": "overlay",
              "size": 10,
              "solidity": 0.2
             }
            },
            "type": "bar"
           }
          ],
          "barpolar": [
           {
            "marker": {
             "line": {
              "color": "#E5ECF6",
              "width": 0.5
             },
             "pattern": {
              "fillmode": "overlay",
              "size": 10,
              "solidity": 0.2
             }
            },
            "type": "barpolar"
           }
          ],
          "carpet": [
           {
            "aaxis": {
             "endlinecolor": "#2a3f5f",
             "gridcolor": "white",
             "linecolor": "white",
             "minorgridcolor": "white",
             "startlinecolor": "#2a3f5f"
            },
            "baxis": {
             "endlinecolor": "#2a3f5f",
             "gridcolor": "white",
             "linecolor": "white",
             "minorgridcolor": "white",
             "startlinecolor": "#2a3f5f"
            },
            "type": "carpet"
           }
          ],
          "choropleth": [
           {
            "colorbar": {
             "outlinewidth": 0,
             "ticks": ""
            },
            "type": "choropleth"
           }
          ],
          "contour": [
           {
            "colorbar": {
             "outlinewidth": 0,
             "ticks": ""
            },
            "colorscale": [
             [
              0,
              "#0d0887"
             ],
             [
              0.1111111111111111,
              "#46039f"
             ],
             [
              0.2222222222222222,
              "#7201a8"
             ],
             [
              0.3333333333333333,
              "#9c179e"
             ],
             [
              0.4444444444444444,
              "#bd3786"
             ],
             [
              0.5555555555555556,
              "#d8576b"
             ],
             [
              0.6666666666666666,
              "#ed7953"
             ],
             [
              0.7777777777777778,
              "#fb9f3a"
             ],
             [
              0.8888888888888888,
              "#fdca26"
             ],
             [
              1,
              "#f0f921"
             ]
            ],
            "type": "contour"
           }
          ],
          "contourcarpet": [
           {
            "colorbar": {
             "outlinewidth": 0,
             "ticks": ""
            },
            "type": "contourcarpet"
           }
          ],
          "heatmap": [
           {
            "colorbar": {
             "outlinewidth": 0,
             "ticks": ""
            },
            "colorscale": [
             [
              0,
              "#0d0887"
             ],
             [
              0.1111111111111111,
              "#46039f"
             ],
             [
              0.2222222222222222,
              "#7201a8"
             ],
             [
              0.3333333333333333,
              "#9c179e"
             ],
             [
              0.4444444444444444,
              "#bd3786"
             ],
             [
              0.5555555555555556,
              "#d8576b"
             ],
             [
              0.6666666666666666,
              "#ed7953"
             ],
             [
              0.7777777777777778,
              "#fb9f3a"
             ],
             [
              0.8888888888888888,
              "#fdca26"
             ],
             [
              1,
              "#f0f921"
             ]
            ],
            "type": "heatmap"
           }
          ],
          "heatmapgl": [
           {
            "colorbar": {
             "outlinewidth": 0,
             "ticks": ""
            },
            "colorscale": [
             [
              0,
              "#0d0887"
             ],
             [
              0.1111111111111111,
              "#46039f"
             ],
             [
              0.2222222222222222,
              "#7201a8"
             ],
             [
              0.3333333333333333,
              "#9c179e"
             ],
             [
              0.4444444444444444,
              "#bd3786"
             ],
             [
              0.5555555555555556,
              "#d8576b"
             ],
             [
              0.6666666666666666,
              "#ed7953"
             ],
             [
              0.7777777777777778,
              "#fb9f3a"
             ],
             [
              0.8888888888888888,
              "#fdca26"
             ],
             [
              1,
              "#f0f921"
             ]
            ],
            "type": "heatmapgl"
           }
          ],
          "histogram": [
           {
            "marker": {
             "pattern": {
              "fillmode": "overlay",
              "size": 10,
              "solidity": 0.2
             }
            },
            "type": "histogram"
           }
          ],
          "histogram2d": [
           {
            "colorbar": {
             "outlinewidth": 0,
             "ticks": ""
            },
            "colorscale": [
             [
              0,
              "#0d0887"
             ],
             [
              0.1111111111111111,
              "#46039f"
             ],
             [
              0.2222222222222222,
              "#7201a8"
             ],
             [
              0.3333333333333333,
              "#9c179e"
             ],
             [
              0.4444444444444444,
              "#bd3786"
             ],
             [
              0.5555555555555556,
              "#d8576b"
             ],
             [
              0.6666666666666666,
              "#ed7953"
             ],
             [
              0.7777777777777778,
              "#fb9f3a"
             ],
             [
              0.8888888888888888,
              "#fdca26"
             ],
             [
              1,
              "#f0f921"
             ]
            ],
            "type": "histogram2d"
           }
          ],
          "histogram2dcontour": [
           {
            "colorbar": {
             "outlinewidth": 0,
             "ticks": ""
            },
            "colorscale": [
             [
              0,
              "#0d0887"
             ],
             [
              0.1111111111111111,
              "#46039f"
             ],
             [
              0.2222222222222222,
              "#7201a8"
             ],
             [
              0.3333333333333333,
              "#9c179e"
             ],
             [
              0.4444444444444444,
              "#bd3786"
             ],
             [
              0.5555555555555556,
              "#d8576b"
             ],
             [
              0.6666666666666666,
              "#ed7953"
             ],
             [
              0.7777777777777778,
              "#fb9f3a"
             ],
             [
              0.8888888888888888,
              "#fdca26"
             ],
             [
              1,
              "#f0f921"
             ]
            ],
            "type": "histogram2dcontour"
           }
          ],
          "mesh3d": [
           {
            "colorbar": {
             "outlinewidth": 0,
             "ticks": ""
            },
            "type": "mesh3d"
           }
          ],
          "parcoords": [
           {
            "line": {
             "colorbar": {
              "outlinewidth": 0,
              "ticks": ""
             }
            },
            "type": "parcoords"
           }
          ],
          "pie": [
           {
            "automargin": true,
            "type": "pie"
           }
          ],
          "scatter": [
           {
            "fillpattern": {
             "fillmode": "overlay",
             "size": 10,
             "solidity": 0.2
            },
            "type": "scatter"
           }
          ],
          "scatter3d": [
           {
            "line": {
             "colorbar": {
              "outlinewidth": 0,
              "ticks": ""
             }
            },
            "marker": {
             "colorbar": {
              "outlinewidth": 0,
              "ticks": ""
             }
            },
            "type": "scatter3d"
           }
          ],
          "scattercarpet": [
           {
            "marker": {
             "colorbar": {
              "outlinewidth": 0,
              "ticks": ""
             }
            },
            "type": "scattercarpet"
           }
          ],
          "scattergeo": [
           {
            "marker": {
             "colorbar": {
              "outlinewidth": 0,
              "ticks": ""
             }
            },
            "type": "scattergeo"
           }
          ],
          "scattergl": [
           {
            "marker": {
             "colorbar": {
              "outlinewidth": 0,
              "ticks": ""
             }
            },
            "type": "scattergl"
           }
          ],
          "scattermapbox": [
           {
            "marker": {
             "colorbar": {
              "outlinewidth": 0,
              "ticks": ""
             }
            },
            "type": "scattermapbox"
           }
          ],
          "scatterpolar": [
           {
            "marker": {
             "colorbar": {
              "outlinewidth": 0,
              "ticks": ""
             }
            },
            "type": "scatterpolar"
           }
          ],
          "scatterpolargl": [
           {
            "marker": {
             "colorbar": {
              "outlinewidth": 0,
              "ticks": ""
             }
            },
            "type": "scatterpolargl"
           }
          ],
          "scatterternary": [
           {
            "marker": {
             "colorbar": {
              "outlinewidth": 0,
              "ticks": ""
             }
            },
            "type": "scatterternary"
           }
          ],
          "surface": [
           {
            "colorbar": {
             "outlinewidth": 0,
             "ticks": ""
            },
            "colorscale": [
             [
              0,
              "#0d0887"
             ],
             [
              0.1111111111111111,
              "#46039f"
             ],
             [
              0.2222222222222222,
              "#7201a8"
             ],
             [
              0.3333333333333333,
              "#9c179e"
             ],
             [
              0.4444444444444444,
              "#bd3786"
             ],
             [
              0.5555555555555556,
              "#d8576b"
             ],
             [
              0.6666666666666666,
              "#ed7953"
             ],
             [
              0.7777777777777778,
              "#fb9f3a"
             ],
             [
              0.8888888888888888,
              "#fdca26"
             ],
             [
              1,
              "#f0f921"
             ]
            ],
            "type": "surface"
           }
          ],
          "table": [
           {
            "cells": {
             "fill": {
              "color": "#EBF0F8"
             },
             "line": {
              "color": "white"
             }
            },
            "header": {
             "fill": {
              "color": "#C8D4E3"
             },
             "line": {
              "color": "white"
             }
            },
            "type": "table"
           }
          ]
         },
         "layout": {
          "annotationdefaults": {
           "arrowcolor": "#2a3f5f",
           "arrowhead": 0,
           "arrowwidth": 1
          },
          "autotypenumbers": "strict",
          "coloraxis": {
           "colorbar": {
            "outlinewidth": 0,
            "ticks": ""
           }
          },
          "colorscale": {
           "diverging": [
            [
             0,
             "#8e0152"
            ],
            [
             0.1,
             "#c51b7d"
            ],
            [
             0.2,
             "#de77ae"
            ],
            [
             0.3,
             "#f1b6da"
            ],
            [
             0.4,
             "#fde0ef"
            ],
            [
             0.5,
             "#f7f7f7"
            ],
            [
             0.6,
             "#e6f5d0"
            ],
            [
             0.7,
             "#b8e186"
            ],
            [
             0.8,
             "#7fbc41"
            ],
            [
             0.9,
             "#4d9221"
            ],
            [
             1,
             "#276419"
            ]
           ],
           "sequential": [
            [
             0,
             "#0d0887"
            ],
            [
             0.1111111111111111,
             "#46039f"
            ],
            [
             0.2222222222222222,
             "#7201a8"
            ],
            [
             0.3333333333333333,
             "#9c179e"
            ],
            [
             0.4444444444444444,
             "#bd3786"
            ],
            [
             0.5555555555555556,
             "#d8576b"
            ],
            [
             0.6666666666666666,
             "#ed7953"
            ],
            [
             0.7777777777777778,
             "#fb9f3a"
            ],
            [
             0.8888888888888888,
             "#fdca26"
            ],
            [
             1,
             "#f0f921"
            ]
           ],
           "sequentialminus": [
            [
             0,
             "#0d0887"
            ],
            [
             0.1111111111111111,
             "#46039f"
            ],
            [
             0.2222222222222222,
             "#7201a8"
            ],
            [
             0.3333333333333333,
             "#9c179e"
            ],
            [
             0.4444444444444444,
             "#bd3786"
            ],
            [
             0.5555555555555556,
             "#d8576b"
            ],
            [
             0.6666666666666666,
             "#ed7953"
            ],
            [
             0.7777777777777778,
             "#fb9f3a"
            ],
            [
             0.8888888888888888,
             "#fdca26"
            ],
            [
             1,
             "#f0f921"
            ]
           ]
          },
          "colorway": [
           "#636efa",
           "#EF553B",
           "#00cc96",
           "#ab63fa",
           "#FFA15A",
           "#19d3f3",
           "#FF6692",
           "#B6E880",
           "#FF97FF",
           "#FECB52"
          ],
          "font": {
           "color": "#2a3f5f"
          },
          "geo": {
           "bgcolor": "white",
           "lakecolor": "white",
           "landcolor": "#E5ECF6",
           "showlakes": true,
           "showland": true,
           "subunitcolor": "white"
          },
          "hoverlabel": {
           "align": "left"
          },
          "hovermode": "closest",
          "mapbox": {
           "style": "light"
          },
          "paper_bgcolor": "white",
          "plot_bgcolor": "#E5ECF6",
          "polar": {
           "angularaxis": {
            "gridcolor": "white",
            "linecolor": "white",
            "ticks": ""
           },
           "bgcolor": "#E5ECF6",
           "radialaxis": {
            "gridcolor": "white",
            "linecolor": "white",
            "ticks": ""
           }
          },
          "scene": {
           "xaxis": {
            "backgroundcolor": "#E5ECF6",
            "gridcolor": "white",
            "gridwidth": 2,
            "linecolor": "white",
            "showbackground": true,
            "ticks": "",
            "zerolinecolor": "white"
           },
           "yaxis": {
            "backgroundcolor": "#E5ECF6",
            "gridcolor": "white",
            "gridwidth": 2,
            "linecolor": "white",
            "showbackground": true,
            "ticks": "",
            "zerolinecolor": "white"
           },
           "zaxis": {
            "backgroundcolor": "#E5ECF6",
            "gridcolor": "white",
            "gridwidth": 2,
            "linecolor": "white",
            "showbackground": true,
            "ticks": "",
            "zerolinecolor": "white"
           }
          },
          "shapedefaults": {
           "line": {
            "color": "#2a3f5f"
           }
          },
          "ternary": {
           "aaxis": {
            "gridcolor": "white",
            "linecolor": "white",
            "ticks": ""
           },
           "baxis": {
            "gridcolor": "white",
            "linecolor": "white",
            "ticks": ""
           },
           "bgcolor": "#E5ECF6",
           "caxis": {
            "gridcolor": "white",
            "linecolor": "white",
            "ticks": ""
           }
          },
          "title": {
           "x": 0.05
          },
          "xaxis": {
           "automargin": true,
           "gridcolor": "white",
           "linecolor": "white",
           "ticks": "",
           "title": {
            "standoff": 15
           },
           "zerolinecolor": "white",
           "zerolinewidth": 2
          },
          "yaxis": {
           "automargin": true,
           "gridcolor": "white",
           "linecolor": "white",
           "ticks": "",
           "title": {
            "standoff": 15
           },
           "zerolinecolor": "white",
           "zerolinewidth": 2
          }
         }
        },
        "title": {
         "text": "3D WordCloud for Negative Reviews"
        }
       }
      }
     },
     "metadata": {},
     "output_type": "display_data"
    }
   ],
   "source": [
    "\n",
    "Negative_texts = list(df[df[\"sentiment\"] == \"Negative\"][\"text\"])\n",
    "plot_3d_wordcloud(Negative_texts, title=\"3D WordCloud for Negative Reviews\")"
   ]
  },
  {
   "cell_type": "code",
   "execution_count": 9,
   "id": "7bfc75b0",
   "metadata": {},
   "outputs": [
    {
     "data": {
      "application/vnd.plotly.v1+json": {
       "config": {
        "plotlyServerURL": "https://plot.ly"
       },
       "data": [
        {
         "mode": "text",
         "text": [
          "/"
         ],
         "textfont": {
          "color": "orange",
          "size": 50
         },
         "type": "scatter3d",
         "x": [
          0.3745401188473625
         ],
         "y": [
          0.6118528947223795
         ],
         "z": [
          0.12203823484477883
         ]
        },
        {
         "mode": "text",
         "text": [
          "."
         ],
         "textfont": {
          "color": "orange",
          "size": 35.06724511930585
         },
         "type": "scatter3d",
         "x": [
          0.9507143064099162
         ],
         "y": [
          0.13949386065204183
         ],
         "z": [
          0.4951769101112702
         ]
        },
        {
         "mode": "text",
         "text": [
          "@"
         ],
         "textfont": {
          "color": "orange",
          "size": 29.80477223427332
         },
         "type": "scatter3d",
         "x": [
          0.7319939418114051
         ],
         "y": [
          0.29214464853521815
         ],
         "z": [
          0.034388521115218396
         ]
        },
        {
         "mode": "text",
         "text": [
          "-"
         ],
         "textfont": {
          "color": "orange",
          "size": 29.37527114967462
         },
         "type": "scatter3d",
         "x": [
          0.5986584841970366
         ],
         "y": [
          0.3663618432936917
         ],
         "z": [
          0.9093204020787821
         ]
        },
        {
         "mode": "text",
         "text": [
          "johnson"
         ],
         "textfont": {
          "color": "orange",
          "size": 26.772234273318873
         },
         "type": "scatter3d",
         "x": [
          0.15601864044243652
         ],
         "y": [
          0.45606998421703593
         ],
         "z": [
          0.2587799816000169
         ]
        },
        {
         "mode": "text",
         "text": [
          "&"
         ],
         "textfont": {
          "color": "orange",
          "size": 25.531453362255967
         },
         "type": "scatter3d",
         "x": [
          0.15599452033620265
         ],
         "y": [
          0.7851759613930136
         ],
         "z": [
          0.662522284353982
         ]
        },
        {
         "mode": "text",
         "text": [
          "_"
         ],
         "textfont": {
          "color": "orange",
          "size": 24.49457700650759
         },
         "type": "scatter3d",
         "x": [
          0.05808361216819946
         ],
         "y": [
          0.19967378215835974
         ],
         "z": [
          0.31171107608941095
         ]
        },
        {
         "mode": "text",
         "text": [
          "2"
         ],
         "textfont": {
          "color": "orange",
          "size": 24.01301518438178
         },
         "type": "scatter3d",
         "x": [
          0.8661761457749352
         ],
         "y": [
          0.5142344384136116
         ],
         "z": [
          0.5200680211778108
         ]
        },
        {
         "mode": "text",
         "text": [
          "game"
         ],
         "textfont": {
          "color": "orange",
          "size": 23.839479392624728
         },
         "type": "scatter3d",
         "x": [
          0.6011150117432088
         ],
         "y": [
          0.5924145688620425
         ],
         "z": [
          0.5467102793432796
         ]
        },
        {
         "mode": "text",
         "text": [
          "amazon"
         ],
         "textfont": {
          "color": "orange",
          "size": 23.449023861171366
         },
         "type": "scatter3d",
         "x": [
          0.7080725777960455
         ],
         "y": [
          0.046450412719997725
         ],
         "z": [
          0.18485445552552704
         ]
        },
        {
         "mode": "text",
         "text": [
          "new"
         ],
         "textfont": {
          "color": "orange",
          "size": 23.392624728850326
         },
         "type": "scatter3d",
         "x": [
          0.020584494295802447
         ],
         "y": [
          0.6075448519014384
         ],
         "z": [
          0.9695846277645586
         ]
        },
        {
         "mode": "text",
         "text": [
          "will"
         ],
         "textfont": {
          "color": "orange",
          "size": 23.310195227765725
         },
         "type": "scatter3d",
         "x": [
          0.9699098521619943
         ],
         "y": [
          0.17052412368729153
         ],
         "z": [
          0.7751328233611146
         ]
        },
        {
         "mode": "text",
         "text": [
          "now"
         ],
         "textfont": {
          "color": "orange",
          "size": 23.210412147505423
         },
         "type": "scatter3d",
         "x": [
          0.8324426408004217
         ],
         "y": [
          0.06505159298527952
         ],
         "z": [
          0.9394989415641891
         ]
        },
        {
         "mode": "text",
         "text": [
          "one"
         ],
         "textfont": {
          "color": "orange",
          "size": 23.171366594360087
         },
         "type": "scatter3d",
         "x": [
          0.21233911067827616
         ],
         "y": [
          0.9488855372533332
         ],
         "z": [
          0.8948273504276488
         ]
        },
        {
         "mode": "text",
         "text": [
          "play"
         ],
         "textfont": {
          "color": "orange",
          "size": 22.815618221258134
         },
         "type": "scatter3d",
         "x": [
          0.18182496720710062
         ],
         "y": [
          0.9656320330745594
         ],
         "z": [
          0.5978999788110851
         ]
        },
        {
         "mode": "text",
         "text": [
          "google"
         ],
         "textfont": {
          "color": "orange",
          "size": 22.72885032537961
         },
         "type": "scatter3d",
         "x": [
          0.18340450985343382
         ],
         "y": [
          0.8083973481164611
         ],
         "z": [
          0.9218742350231168
         ]
        },
        {
         "mode": "text",
         "text": [
          "facebook"
         ],
         "textfont": {
          "color": "orange",
          "size": 22.715835140997832
         },
         "type": "scatter3d",
         "x": [
          0.3042422429595377
         ],
         "y": [
          0.3046137691733707
         ],
         "z": [
          0.0884925020519195
         ]
        },
        {
         "mode": "text",
         "text": [
          "red"
         ],
         "textfont": {
          "color": "orange",
          "size": 22.642082429501084
         },
         "type": "scatter3d",
         "x": [
          0.5247564316322378
         ],
         "y": [
          0.09767211400638387
         ],
         "z": [
          0.1959828624191452
         ]
        },
        {
         "mode": "text",
         "text": [
          "dead"
         ],
         "textfont": {
          "color": "orange",
          "size": 22.629067245119305
         },
         "type": "scatter3d",
         "x": [
          0.43194501864211576
         ],
         "y": [
          0.6842330265121569
         ],
         "z": [
          0.045227288910538066
         ]
        },
        {
         "mode": "text",
         "text": [
          "see"
         ],
         "textfont": {
          "color": "orange",
          "size": 22.60303687635575
         },
         "type": "scatter3d",
         "x": [
          0.2912291401980419
         ],
         "y": [
          0.4401524937396013
         ],
         "z": [
          0.32533033076326434
         ]
        }
       ],
       "layout": {
        "margin": {
         "b": 0,
         "l": 0,
         "r": 0,
         "t": 40
        },
        "scene": {
         "xaxis": {
          "showbackground": false
         },
         "yaxis": {
          "showbackground": false
         },
         "zaxis": {
          "showbackground": false
         }
        },
        "template": {
         "data": {
          "bar": [
           {
            "error_x": {
             "color": "#2a3f5f"
            },
            "error_y": {
             "color": "#2a3f5f"
            },
            "marker": {
             "line": {
              "color": "#E5ECF6",
              "width": 0.5
             },
             "pattern": {
              "fillmode": "overlay",
              "size": 10,
              "solidity": 0.2
             }
            },
            "type": "bar"
           }
          ],
          "barpolar": [
           {
            "marker": {
             "line": {
              "color": "#E5ECF6",
              "width": 0.5
             },
             "pattern": {
              "fillmode": "overlay",
              "size": 10,
              "solidity": 0.2
             }
            },
            "type": "barpolar"
           }
          ],
          "carpet": [
           {
            "aaxis": {
             "endlinecolor": "#2a3f5f",
             "gridcolor": "white",
             "linecolor": "white",
             "minorgridcolor": "white",
             "startlinecolor": "#2a3f5f"
            },
            "baxis": {
             "endlinecolor": "#2a3f5f",
             "gridcolor": "white",
             "linecolor": "white",
             "minorgridcolor": "white",
             "startlinecolor": "#2a3f5f"
            },
            "type": "carpet"
           }
          ],
          "choropleth": [
           {
            "colorbar": {
             "outlinewidth": 0,
             "ticks": ""
            },
            "type": "choropleth"
           }
          ],
          "contour": [
           {
            "colorbar": {
             "outlinewidth": 0,
             "ticks": ""
            },
            "colorscale": [
             [
              0,
              "#0d0887"
             ],
             [
              0.1111111111111111,
              "#46039f"
             ],
             [
              0.2222222222222222,
              "#7201a8"
             ],
             [
              0.3333333333333333,
              "#9c179e"
             ],
             [
              0.4444444444444444,
              "#bd3786"
             ],
             [
              0.5555555555555556,
              "#d8576b"
             ],
             [
              0.6666666666666666,
              "#ed7953"
             ],
             [
              0.7777777777777778,
              "#fb9f3a"
             ],
             [
              0.8888888888888888,
              "#fdca26"
             ],
             [
              1,
              "#f0f921"
             ]
            ],
            "type": "contour"
           }
          ],
          "contourcarpet": [
           {
            "colorbar": {
             "outlinewidth": 0,
             "ticks": ""
            },
            "type": "contourcarpet"
           }
          ],
          "heatmap": [
           {
            "colorbar": {
             "outlinewidth": 0,
             "ticks": ""
            },
            "colorscale": [
             [
              0,
              "#0d0887"
             ],
             [
              0.1111111111111111,
              "#46039f"
             ],
             [
              0.2222222222222222,
              "#7201a8"
             ],
             [
              0.3333333333333333,
              "#9c179e"
             ],
             [
              0.4444444444444444,
              "#bd3786"
             ],
             [
              0.5555555555555556,
              "#d8576b"
             ],
             [
              0.6666666666666666,
              "#ed7953"
             ],
             [
              0.7777777777777778,
              "#fb9f3a"
             ],
             [
              0.8888888888888888,
              "#fdca26"
             ],
             [
              1,
              "#f0f921"
             ]
            ],
            "type": "heatmap"
           }
          ],
          "heatmapgl": [
           {
            "colorbar": {
             "outlinewidth": 0,
             "ticks": ""
            },
            "colorscale": [
             [
              0,
              "#0d0887"
             ],
             [
              0.1111111111111111,
              "#46039f"
             ],
             [
              0.2222222222222222,
              "#7201a8"
             ],
             [
              0.3333333333333333,
              "#9c179e"
             ],
             [
              0.4444444444444444,
              "#bd3786"
             ],
             [
              0.5555555555555556,
              "#d8576b"
             ],
             [
              0.6666666666666666,
              "#ed7953"
             ],
             [
              0.7777777777777778,
              "#fb9f3a"
             ],
             [
              0.8888888888888888,
              "#fdca26"
             ],
             [
              1,
              "#f0f921"
             ]
            ],
            "type": "heatmapgl"
           }
          ],
          "histogram": [
           {
            "marker": {
             "pattern": {
              "fillmode": "overlay",
              "size": 10,
              "solidity": 0.2
             }
            },
            "type": "histogram"
           }
          ],
          "histogram2d": [
           {
            "colorbar": {
             "outlinewidth": 0,
             "ticks": ""
            },
            "colorscale": [
             [
              0,
              "#0d0887"
             ],
             [
              0.1111111111111111,
              "#46039f"
             ],
             [
              0.2222222222222222,
              "#7201a8"
             ],
             [
              0.3333333333333333,
              "#9c179e"
             ],
             [
              0.4444444444444444,
              "#bd3786"
             ],
             [
              0.5555555555555556,
              "#d8576b"
             ],
             [
              0.6666666666666666,
              "#ed7953"
             ],
             [
              0.7777777777777778,
              "#fb9f3a"
             ],
             [
              0.8888888888888888,
              "#fdca26"
             ],
             [
              1,
              "#f0f921"
             ]
            ],
            "type": "histogram2d"
           }
          ],
          "histogram2dcontour": [
           {
            "colorbar": {
             "outlinewidth": 0,
             "ticks": ""
            },
            "colorscale": [
             [
              0,
              "#0d0887"
             ],
             [
              0.1111111111111111,
              "#46039f"
             ],
             [
              0.2222222222222222,
              "#7201a8"
             ],
             [
              0.3333333333333333,
              "#9c179e"
             ],
             [
              0.4444444444444444,
              "#bd3786"
             ],
             [
              0.5555555555555556,
              "#d8576b"
             ],
             [
              0.6666666666666666,
              "#ed7953"
             ],
             [
              0.7777777777777778,
              "#fb9f3a"
             ],
             [
              0.8888888888888888,
              "#fdca26"
             ],
             [
              1,
              "#f0f921"
             ]
            ],
            "type": "histogram2dcontour"
           }
          ],
          "mesh3d": [
           {
            "colorbar": {
             "outlinewidth": 0,
             "ticks": ""
            },
            "type": "mesh3d"
           }
          ],
          "parcoords": [
           {
            "line": {
             "colorbar": {
              "outlinewidth": 0,
              "ticks": ""
             }
            },
            "type": "parcoords"
           }
          ],
          "pie": [
           {
            "automargin": true,
            "type": "pie"
           }
          ],
          "scatter": [
           {
            "fillpattern": {
             "fillmode": "overlay",
             "size": 10,
             "solidity": 0.2
            },
            "type": "scatter"
           }
          ],
          "scatter3d": [
           {
            "line": {
             "colorbar": {
              "outlinewidth": 0,
              "ticks": ""
             }
            },
            "marker": {
             "colorbar": {
              "outlinewidth": 0,
              "ticks": ""
             }
            },
            "type": "scatter3d"
           }
          ],
          "scattercarpet": [
           {
            "marker": {
             "colorbar": {
              "outlinewidth": 0,
              "ticks": ""
             }
            },
            "type": "scattercarpet"
           }
          ],
          "scattergeo": [
           {
            "marker": {
             "colorbar": {
              "outlinewidth": 0,
              "ticks": ""
             }
            },
            "type": "scattergeo"
           }
          ],
          "scattergl": [
           {
            "marker": {
             "colorbar": {
              "outlinewidth": 0,
              "ticks": ""
             }
            },
            "type": "scattergl"
           }
          ],
          "scattermapbox": [
           {
            "marker": {
             "colorbar": {
              "outlinewidth": 0,
              "ticks": ""
             }
            },
            "type": "scattermapbox"
           }
          ],
          "scatterpolar": [
           {
            "marker": {
             "colorbar": {
              "outlinewidth": 0,
              "ticks": ""
             }
            },
            "type": "scatterpolar"
           }
          ],
          "scatterpolargl": [
           {
            "marker": {
             "colorbar": {
              "outlinewidth": 0,
              "ticks": ""
             }
            },
            "type": "scatterpolargl"
           }
          ],
          "scatterternary": [
           {
            "marker": {
             "colorbar": {
              "outlinewidth": 0,
              "ticks": ""
             }
            },
            "type": "scatterternary"
           }
          ],
          "surface": [
           {
            "colorbar": {
             "outlinewidth": 0,
             "ticks": ""
            },
            "colorscale": [
             [
              0,
              "#0d0887"
             ],
             [
              0.1111111111111111,
              "#46039f"
             ],
             [
              0.2222222222222222,
              "#7201a8"
             ],
             [
              0.3333333333333333,
              "#9c179e"
             ],
             [
              0.4444444444444444,
              "#bd3786"
             ],
             [
              0.5555555555555556,
              "#d8576b"
             ],
             [
              0.6666666666666666,
              "#ed7953"
             ],
             [
              0.7777777777777778,
              "#fb9f3a"
             ],
             [
              0.8888888888888888,
              "#fdca26"
             ],
             [
              1,
              "#f0f921"
             ]
            ],
            "type": "surface"
           }
          ],
          "table": [
           {
            "cells": {
             "fill": {
              "color": "#EBF0F8"
             },
             "line": {
              "color": "white"
             }
            },
            "header": {
             "fill": {
              "color": "#C8D4E3"
             },
             "line": {
              "color": "white"
             }
            },
            "type": "table"
           }
          ]
         },
         "layout": {
          "annotationdefaults": {
           "arrowcolor": "#2a3f5f",
           "arrowhead": 0,
           "arrowwidth": 1
          },
          "autotypenumbers": "strict",
          "coloraxis": {
           "colorbar": {
            "outlinewidth": 0,
            "ticks": ""
           }
          },
          "colorscale": {
           "diverging": [
            [
             0,
             "#8e0152"
            ],
            [
             0.1,
             "#c51b7d"
            ],
            [
             0.2,
             "#de77ae"
            ],
            [
             0.3,
             "#f1b6da"
            ],
            [
             0.4,
             "#fde0ef"
            ],
            [
             0.5,
             "#f7f7f7"
            ],
            [
             0.6,
             "#e6f5d0"
            ],
            [
             0.7,
             "#b8e186"
            ],
            [
             0.8,
             "#7fbc41"
            ],
            [
             0.9,
             "#4d9221"
            ],
            [
             1,
             "#276419"
            ]
           ],
           "sequential": [
            [
             0,
             "#0d0887"
            ],
            [
             0.1111111111111111,
             "#46039f"
            ],
            [
             0.2222222222222222,
             "#7201a8"
            ],
            [
             0.3333333333333333,
             "#9c179e"
            ],
            [
             0.4444444444444444,
             "#bd3786"
            ],
            [
             0.5555555555555556,
             "#d8576b"
            ],
            [
             0.6666666666666666,
             "#ed7953"
            ],
            [
             0.7777777777777778,
             "#fb9f3a"
            ],
            [
             0.8888888888888888,
             "#fdca26"
            ],
            [
             1,
             "#f0f921"
            ]
           ],
           "sequentialminus": [
            [
             0,
             "#0d0887"
            ],
            [
             0.1111111111111111,
             "#46039f"
            ],
            [
             0.2222222222222222,
             "#7201a8"
            ],
            [
             0.3333333333333333,
             "#9c179e"
            ],
            [
             0.4444444444444444,
             "#bd3786"
            ],
            [
             0.5555555555555556,
             "#d8576b"
            ],
            [
             0.6666666666666666,
             "#ed7953"
            ],
            [
             0.7777777777777778,
             "#fb9f3a"
            ],
            [
             0.8888888888888888,
             "#fdca26"
            ],
            [
             1,
             "#f0f921"
            ]
           ]
          },
          "colorway": [
           "#636efa",
           "#EF553B",
           "#00cc96",
           "#ab63fa",
           "#FFA15A",
           "#19d3f3",
           "#FF6692",
           "#B6E880",
           "#FF97FF",
           "#FECB52"
          ],
          "font": {
           "color": "#2a3f5f"
          },
          "geo": {
           "bgcolor": "white",
           "lakecolor": "white",
           "landcolor": "#E5ECF6",
           "showlakes": true,
           "showland": true,
           "subunitcolor": "white"
          },
          "hoverlabel": {
           "align": "left"
          },
          "hovermode": "closest",
          "mapbox": {
           "style": "light"
          },
          "paper_bgcolor": "white",
          "plot_bgcolor": "#E5ECF6",
          "polar": {
           "angularaxis": {
            "gridcolor": "white",
            "linecolor": "white",
            "ticks": ""
           },
           "bgcolor": "#E5ECF6",
           "radialaxis": {
            "gridcolor": "white",
            "linecolor": "white",
            "ticks": ""
           }
          },
          "scene": {
           "xaxis": {
            "backgroundcolor": "#E5ECF6",
            "gridcolor": "white",
            "gridwidth": 2,
            "linecolor": "white",
            "showbackground": true,
            "ticks": "",
            "zerolinecolor": "white"
           },
           "yaxis": {
            "backgroundcolor": "#E5ECF6",
            "gridcolor": "white",
            "gridwidth": 2,
            "linecolor": "white",
            "showbackground": true,
            "ticks": "",
            "zerolinecolor": "white"
           },
           "zaxis": {
            "backgroundcolor": "#E5ECF6",
            "gridcolor": "white",
            "gridwidth": 2,
            "linecolor": "white",
            "showbackground": true,
            "ticks": "",
            "zerolinecolor": "white"
           }
          },
          "shapedefaults": {
           "line": {
            "color": "#2a3f5f"
           }
          },
          "ternary": {
           "aaxis": {
            "gridcolor": "white",
            "linecolor": "white",
            "ticks": ""
           },
           "baxis": {
            "gridcolor": "white",
            "linecolor": "white",
            "ticks": ""
           },
           "bgcolor": "#E5ECF6",
           "caxis": {
            "gridcolor": "white",
            "linecolor": "white",
            "ticks": ""
           }
          },
          "title": {
           "x": 0.05
          },
          "xaxis": {
           "automargin": true,
           "gridcolor": "white",
           "linecolor": "white",
           "ticks": "",
           "title": {
            "standoff": 15
           },
           "zerolinecolor": "white",
           "zerolinewidth": 2
          },
          "yaxis": {
           "automargin": true,
           "gridcolor": "white",
           "linecolor": "white",
           "ticks": "",
           "title": {
            "standoff": 15
           },
           "zerolinecolor": "white",
           "zerolinewidth": 2
          }
         }
        },
        "title": {
         "text": "3D WordCloud for Neutral Reviews"
        }
       }
      }
     },
     "metadata": {},
     "output_type": "display_data"
    }
   ],
   "source": [
    "Neutral_texts = list(df[df[\"sentiment\"] == \"Neutral\"][\"text\"])\n",
    "plot_3d_wordcloud(Neutral_texts, title=\"3D WordCloud for Neutral Reviews\")"
   ]
  },
  {
   "cell_type": "code",
   "execution_count": 10,
   "id": "987362a8",
   "metadata": {},
   "outputs": [],
   "source": [
    "stop_words = set(stopwords.words('english'))\n",
    "lemmatizer = WordNetLemmatizer()\n",
    "\n",
    "def clean_text(text):\n",
    "    text = str(text).lower()\n",
    "    text = re.sub(r'http\\S+', '', text)  # Remove links\n",
    "    text = re.sub(r'@\\w+', '', text)     # Remove mentions\n",
    "    text = re.sub(r'#\\w+', '', text)     # Remove hashtags\n",
    "    text = re.sub(r'[^\\w\\s]', '', text)  # Remove punctuations\n",
    "    text = ' '.join(word for word in text.split() if word not in stop_words)  # Remove stopwords\n",
    "    text = ' '.join(lemmatizer.lemmatize(word) for word in text.split())  # Lemmatize\n",
    "    return text\n",
    "\n",
    "df['clean_text'] = df['text'].apply(clean_text)"
   ]
  },
  {
   "cell_type": "code",
   "execution_count": 11,
   "id": "87582d0b",
   "metadata": {},
   "outputs": [
    {
     "data": {
      "text/html": [
       "<div>\n",
       "<style scoped>\n",
       "    .dataframe tbody tr th:only-of-type {\n",
       "        vertical-align: middle;\n",
       "    }\n",
       "\n",
       "    .dataframe tbody tr th {\n",
       "        vertical-align: top;\n",
       "    }\n",
       "\n",
       "    .dataframe thead th {\n",
       "        text-align: right;\n",
       "    }\n",
       "</style>\n",
       "<table border=\"1\" class=\"dataframe\">\n",
       "  <thead>\n",
       "    <tr style=\"text-align: right;\">\n",
       "      <th></th>\n",
       "      <th>sentiment</th>\n",
       "      <th>text</th>\n",
       "      <th>clean_text</th>\n",
       "    </tr>\n",
       "  </thead>\n",
       "  <tbody>\n",
       "    <tr>\n",
       "      <th>192</th>\n",
       "      <td>Neutral</td>\n",
       "      <td>i enter that gunner seat and i fear for my life</td>\n",
       "      <td>enter gunner seat fear life</td>\n",
       "    </tr>\n",
       "    <tr>\n",
       "      <th>18561</th>\n",
       "      <td>Neutral</td>\n",
       "      <td>Everyone’s wondering bc it “looks for Xbox”, b...</td>\n",
       "      <td>everyones wondering bc look xbox nobody mentio...</td>\n",
       "    </tr>\n",
       "    <tr>\n",
       "      <th>56666</th>\n",
       "      <td>Neutral</td>\n",
       "      <td>Next. There was an amazing rainbow... Miss all...</td>\n",
       "      <td>next amazing rainbow miss</td>\n",
       "    </tr>\n",
       "    <tr>\n",
       "      <th>11226</th>\n",
       "      <td>Positive</td>\n",
       "      <td>@TheGreat_Keeno they’re here .  I can’t wait</td>\n",
       "      <td>theyre cant wait</td>\n",
       "    </tr>\n",
       "    <tr>\n",
       "      <th>37019</th>\n",
       "      <td>Positive</td>\n",
       "      <td>Its game day for Microsoft and.. 7 years of wa...</td>\n",
       "      <td>game day microsoft 7 year waiting entire gener...</td>\n",
       "    </tr>\n",
       "    <tr>\n",
       "      <th>37558</th>\n",
       "      <td>Neutral</td>\n",
       "      <td>Wow needs a huge spectate button for just like...</td>\n",
       "      <td>wow need huge spectate button like hearthstone...</td>\n",
       "    </tr>\n",
       "    <tr>\n",
       "      <th>18767</th>\n",
       "      <td>Neutral</td>\n",
       "      <td>I just earned an [Halls Against Devotion] Achi...</td>\n",
       "      <td>earned hall devotion achievement</td>\n",
       "    </tr>\n",
       "    <tr>\n",
       "      <th>11788</th>\n",
       "      <td>Negative</td>\n",
       "      <td>Bruh @Ronnie2K it @NBA2K who the... fuck car i...</td>\n",
       "      <td>bruh fuck car</td>\n",
       "    </tr>\n",
       "    <tr>\n",
       "      <th>13387</th>\n",
       "      <td>Negative</td>\n",
       "      <td>@ NBA2K y'all a corporate joke. Couldn't make ...</td>\n",
       "      <td>nba2k yall corporate joke couldnt make decent ...</td>\n",
       "    </tr>\n",
       "    <tr>\n",
       "      <th>47472</th>\n",
       "      <td>Positive</td>\n",
       "      <td>I love that my Home Depot leadership is being ...</td>\n",
       "      <td>love home depot leadership exemplar quote expr...</td>\n",
       "    </tr>\n",
       "  </tbody>\n",
       "</table>\n",
       "</div>"
      ],
      "text/plain": [
       "      sentiment                                               text  \\\n",
       "192     Neutral    i enter that gunner seat and i fear for my life   \n",
       "18561   Neutral  Everyone’s wondering bc it “looks for Xbox”, b...   \n",
       "56666   Neutral  Next. There was an amazing rainbow... Miss all...   \n",
       "11226  Positive       @TheGreat_Keeno they’re here .  I can’t wait   \n",
       "37019  Positive  Its game day for Microsoft and.. 7 years of wa...   \n",
       "37558   Neutral  Wow needs a huge spectate button for just like...   \n",
       "18767   Neutral  I just earned an [Halls Against Devotion] Achi...   \n",
       "11788  Negative  Bruh @Ronnie2K it @NBA2K who the... fuck car i...   \n",
       "13387  Negative  @ NBA2K y'all a corporate joke. Couldn't make ...   \n",
       "47472  Positive  I love that my Home Depot leadership is being ...   \n",
       "\n",
       "                                              clean_text  \n",
       "192                          enter gunner seat fear life  \n",
       "18561  everyones wondering bc look xbox nobody mentio...  \n",
       "56666                          next amazing rainbow miss  \n",
       "11226                                   theyre cant wait  \n",
       "37019  game day microsoft 7 year waiting entire gener...  \n",
       "37558  wow need huge spectate button like hearthstone...  \n",
       "18767                   earned hall devotion achievement  \n",
       "11788                                      bruh fuck car  \n",
       "13387  nba2k yall corporate joke couldnt make decent ...  \n",
       "47472  love home depot leadership exemplar quote expr...  "
      ]
     },
     "execution_count": 11,
     "metadata": {},
     "output_type": "execute_result"
    }
   ],
   "source": [
    "df.head(10)"
   ]
  },
  {
   "cell_type": "code",
   "execution_count": 12,
   "id": "73330d47",
   "metadata": {},
   "outputs": [],
   "source": [
    "df[\"sentiment_encoded\"] = df[\"sentiment\"].replace({\n",
    "    \"Positive\":0,\n",
    "    \"Negative\":1,\n",
    "    \"Neutral\":2\n",
    "})"
   ]
  },
  {
   "cell_type": "code",
   "execution_count": 13,
   "id": "3676638c",
   "metadata": {},
   "outputs": [
    {
     "data": {
      "text/html": [
       "<div>\n",
       "<style scoped>\n",
       "    .dataframe tbody tr th:only-of-type {\n",
       "        vertical-align: middle;\n",
       "    }\n",
       "\n",
       "    .dataframe tbody tr th {\n",
       "        vertical-align: top;\n",
       "    }\n",
       "\n",
       "    .dataframe thead th {\n",
       "        text-align: right;\n",
       "    }\n",
       "</style>\n",
       "<table border=\"1\" class=\"dataframe\">\n",
       "  <thead>\n",
       "    <tr style=\"text-align: right;\">\n",
       "      <th></th>\n",
       "      <th>sentiment</th>\n",
       "      <th>text</th>\n",
       "      <th>clean_text</th>\n",
       "      <th>sentiment_encoded</th>\n",
       "    </tr>\n",
       "  </thead>\n",
       "  <tbody>\n",
       "    <tr>\n",
       "      <th>192</th>\n",
       "      <td>Neutral</td>\n",
       "      <td>i enter that gunner seat and i fear for my life</td>\n",
       "      <td>enter gunner seat fear life</td>\n",
       "      <td>2</td>\n",
       "    </tr>\n",
       "    <tr>\n",
       "      <th>18561</th>\n",
       "      <td>Neutral</td>\n",
       "      <td>Everyone’s wondering bc it “looks for Xbox”, b...</td>\n",
       "      <td>everyones wondering bc look xbox nobody mentio...</td>\n",
       "      <td>2</td>\n",
       "    </tr>\n",
       "    <tr>\n",
       "      <th>56666</th>\n",
       "      <td>Neutral</td>\n",
       "      <td>Next. There was an amazing rainbow... Miss all...</td>\n",
       "      <td>next amazing rainbow miss</td>\n",
       "      <td>2</td>\n",
       "    </tr>\n",
       "    <tr>\n",
       "      <th>11226</th>\n",
       "      <td>Positive</td>\n",
       "      <td>@TheGreat_Keeno they’re here .  I can’t wait</td>\n",
       "      <td>theyre cant wait</td>\n",
       "      <td>0</td>\n",
       "    </tr>\n",
       "    <tr>\n",
       "      <th>37019</th>\n",
       "      <td>Positive</td>\n",
       "      <td>Its game day for Microsoft and.. 7 years of wa...</td>\n",
       "      <td>game day microsoft 7 year waiting entire gener...</td>\n",
       "      <td>0</td>\n",
       "    </tr>\n",
       "  </tbody>\n",
       "</table>\n",
       "</div>"
      ],
      "text/plain": [
       "      sentiment                                               text  \\\n",
       "192     Neutral    i enter that gunner seat and i fear for my life   \n",
       "18561   Neutral  Everyone’s wondering bc it “looks for Xbox”, b...   \n",
       "56666   Neutral  Next. There was an amazing rainbow... Miss all...   \n",
       "11226  Positive       @TheGreat_Keeno they’re here .  I can’t wait   \n",
       "37019  Positive  Its game day for Microsoft and.. 7 years of wa...   \n",
       "\n",
       "                                              clean_text  sentiment_encoded  \n",
       "192                          enter gunner seat fear life                  2  \n",
       "18561  everyones wondering bc look xbox nobody mentio...                  2  \n",
       "56666                          next amazing rainbow miss                  2  \n",
       "11226                                   theyre cant wait                  0  \n",
       "37019  game day microsoft 7 year waiting entire gener...                  0  "
      ]
     },
     "execution_count": 13,
     "metadata": {},
     "output_type": "execute_result"
    }
   ],
   "source": [
    "df.head()"
   ]
  },
  {
   "cell_type": "code",
   "execution_count": 14,
   "id": "e13fe8a8",
   "metadata": {},
   "outputs": [],
   "source": [
    "x = df[\"clean_text\"]\n",
    "y = df[\"sentiment_encoded\"]\n",
    "x_train,x_test,y_train,y_test = train_test_split(x,y,test_size=0.2,random_state=42)"
   ]
  },
  {
   "cell_type": "code",
   "execution_count": 15,
   "id": "c3867c6c",
   "metadata": {},
   "outputs": [],
   "source": [
    "# print(\"x_train shap\",x_train.shape)\n",
    "# print(\"y_train:\",y_train.shape)\n",
    "# print(\"y_test:\",y_test.shape)\n",
    "# print(\"x_test:\",x_test.shape)"
   ]
  },
  {
   "cell_type": "code",
   "execution_count": 16,
   "id": "e019d106",
   "metadata": {},
   "outputs": [],
   "source": [
    "# print(df[\"sentiment_encoded\"].value_counts(normalize=True) * 100)\n"
   ]
  },
  {
   "cell_type": "code",
   "execution_count": 17,
   "id": "4c447190",
   "metadata": {},
   "outputs": [],
   "source": [
    "tfidf = TfidfVectorizer(ngram_range=(1, 2), max_features=40000,min_df=3,max_df=0.85,stop_words=\"english\")\n",
    "x_train_tfidf = tfidf.fit_transform(x_train)\n",
    "x_test_tfidf = tfidf.transform(x_test)"
   ]
  },
  {
   "cell_type": "code",
   "execution_count": 18,
   "id": "bbd32796",
   "metadata": {},
   "outputs": [],
   "source": [
    "# print(\"x_train-tfidf\",x_train_tfidf.shape)\n",
    "# print(\"x_test_tfidf:\",x_test_tfidf.shape)"
   ]
  },
  {
   "cell_type": "code",
   "execution_count": 19,
   "id": "7398a921",
   "metadata": {},
   "outputs": [],
   "source": [
    "# print(\"x_train+tf\",x_train_tfidf)"
   ]
  },
  {
   "cell_type": "code",
   "execution_count": 20,
   "id": "ae17e012",
   "metadata": {},
   "outputs": [],
   "source": [
    "from imblearn.over_sampling import SMOTE\n",
    "smote = SMOTE(random_state=42,sampling_strategy=\"auto\",k_neighbors=5,n_jobs=1)\n",
    "x_train_sm,y_train_sm = smote.fit_resample(x_train_tfidf,y_train)"
   ]
  },
  {
   "cell_type": "code",
   "execution_count": 21,
   "id": "0f7c1df1",
   "metadata": {},
   "outputs": [
    {
     "name": "stdout",
     "output_type": "stream",
     "text": [
      "Fitting 3 folds for each of 10 candidates, totalling 30 fits\n",
      "\n",
      " Accuracy on test set: 0.893011589690365\n",
      "\n",
      " Classification Report:\n",
      "              precision    recall  f1-score   support\n",
      "\n",
      "           0       0.95      0.86      0.90      3894\n",
      "           1       0.97      0.86      0.91      4181\n",
      "           2       0.78      0.97      0.86      3487\n",
      "\n",
      "    accuracy                           0.89     11562\n",
      "   macro avg       0.90      0.90      0.89     11562\n",
      "weighted avg       0.91      0.89      0.89     11562\n",
      "\n",
      "confusion Matrix:\n",
      "[[3336   73  485]\n",
      " [  90 3615  476]\n",
      " [  73   40 3374]]\n"
     ]
    }
   ],
   "source": [
    "\n",
    "model = SVC()\n",
    "para_distib = {\n",
    "    \"kernel\": ['linear', 'rbf', 'poly', 'sigmoid'],\n",
    "    \"C\": [0.01, 0.1, 1, 2, 5],\n",
    "    \"gamma\": ['scale', 'auto', 0.01, 0.1, 1],\n",
    "    \"degree\": [2, 3, 4],  # Only used if kernel='poly'\n",
    "    \"class_weight\": ['balanced', None],\n",
    "    \"max_iter\": [2000, 5000],\n",
    "    \"shrinking\": [True, False],\n",
    "    \"probability\": [True]  # Enables probability estimates\n",
    "    }\n",
    "\n",
    "random_search = RandomizedSearchCV(\n",
    "    estimator=model,\n",
    "    param_distributions=para_distib,\n",
    "    n_iter=10,              \n",
    "    cv=3,                   \n",
    "    scoring='accuracy',     \n",
    "    verbose=1,\n",
    "    n_jobs=-1,             \n",
    "    random_state=42\n",
    ")\n",
    "random_search.fit(x_train_sm, y_train_sm)\n",
    "y_pred = random_search.predict(x_test_tfidf)\n",
    "print(\"\\n Accuracy on test set:\", accuracy_score(y_test, y_pred))\n",
    "print(\"\\n Classification Report:\")\n",
    "print(classification_report(y_test, y_pred))\n",
    "print(\"confusion Matrix:\")\n",
    "print(confusion_matrix(y_test,y_pred))\n",
    "\n"
   ]
  },
  {
   "cell_type": "code",
   "execution_count": 22,
   "id": "b9ae894a",
   "metadata": {},
   "outputs": [],
   "source": [
    "import pickle\n",
    "\n",
    "with open('sentiment_model.pkl', 'wb') as f:\n",
    "    pickle.dump(random_search.best_estimator_, f)\n",
    "\n",
    "with open('tfidf_vectorizer.pkl', 'wb') as f:\n",
    "    pickle.dump(tfidf, f)\n"
   ]
  },
  {
   "cell_type": "code",
   "execution_count": null,
   "id": "77e809d1",
   "metadata": {},
   "outputs": [],
   "source": []
  }
 ],
 "metadata": {
  "kernelspec": {
   "display_name": "base",
   "language": "python",
   "name": "python3"
  },
  "language_info": {
   "codemirror_mode": {
    "name": "ipython",
    "version": 3
   },
   "file_extension": ".py",
   "mimetype": "text/x-python",
   "name": "python",
   "nbconvert_exporter": "python",
   "pygments_lexer": "ipython3",
   "version": "3.12.7"
  }
 },
 "nbformat": 4,
 "nbformat_minor": 5
}
